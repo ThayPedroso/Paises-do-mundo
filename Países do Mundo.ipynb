{
 "cells": [
  {
   "cell_type": "markdown",
   "metadata": {},
   "source": [
    "# Extraindo dados utilizando a biblioteca Python Pandas\n",
    "\n",
    "Na Indústria 4.0, muito se fala em transferir os dados de produção da planta para a nuvem, armazená-los em bancos de dados e utilizá-los para obter 'insights' e gerar valor. Porém, como se dá essa transformação das informações em valor? Existem várias formas de extrair informações úteis. Uma delas é utilizando Python que atualmente é a linguagem preferida para trabalhar com dados devido às bibliotecas que oferece aos usuários, simplicidade da linguagem entre outros. Neste tutorial utilizarei uma base de dados disponível no Kaggle referente aos países do mundo para exemplificar como é possível extrair facilmente várias informações. "
   ]
  },
  {
   "cell_type": "markdown",
   "metadata": {},
   "source": [
    "As linhas iniciadas em \"In [ ]:\" indicam o código que solicita a informação.\n",
    "As linhas iniciadas em \"Out[ ]:\" indicam as respostas obtidas."
   ]
  },
  {
   "cell_type": "markdown",
   "metadata": {},
   "source": [
    "Importar a biblioteca pandas"
   ]
  },
  {
   "cell_type": "code",
   "execution_count": 1,
   "metadata": {},
   "outputs": [],
   "source": [
    "import pandas as pd"
   ]
  },
  {
   "cell_type": "markdown",
   "metadata": {},
   "source": [
    "Importar a biblioteca Numpy e Matplotlib para auxiliar na manipulação e exibção dos dados."
   ]
  },
  {
   "cell_type": "code",
   "execution_count": 2,
   "metadata": {},
   "outputs": [],
   "source": [
    "import numpy as np\n",
    "import matplotlib.pyplot as plt\n",
    "%matplotlib inline"
   ]
  },
  {
   "cell_type": "markdown",
   "metadata": {},
   "source": [
    "Importar os dados da tabela. O comando 'pd.read_csv()' é um comando para importar arquivos do tipo .csv, que são arquivos onde os dados recolhidos são armazenados com separação por vírgulas."
   ]
  },
  {
   "cell_type": "code",
   "execution_count": 3,
   "metadata": {},
   "outputs": [],
   "source": [
    "tab = pd.read_csv('countries of the world.csv')"
   ]
  },
  {
   "cell_type": "markdown",
   "metadata": {},
   "source": [
    "Dados gerais da tabela. Com o comando 'head(10)' é possível exibir os 10 primeiros dados da tabela."
   ]
  },
  {
   "cell_type": "code",
   "execution_count": 4,
   "metadata": {},
   "outputs": [
    {
     "data": {
      "text/html": [
       "<div>\n",
       "<style scoped>\n",
       "    .dataframe tbody tr th:only-of-type {\n",
       "        vertical-align: middle;\n",
       "    }\n",
       "\n",
       "    .dataframe tbody tr th {\n",
       "        vertical-align: top;\n",
       "    }\n",
       "\n",
       "    .dataframe thead th {\n",
       "        text-align: right;\n",
       "    }\n",
       "</style>\n",
       "<table border=\"1\" class=\"dataframe\">\n",
       "  <thead>\n",
       "    <tr style=\"text-align: right;\">\n",
       "      <th></th>\n",
       "      <th>Country</th>\n",
       "      <th>Region</th>\n",
       "      <th>Population</th>\n",
       "      <th>Area (sq. mi.)</th>\n",
       "      <th>Pop. Density (per sq. mi.)</th>\n",
       "      <th>Coastline (coast/area ratio)</th>\n",
       "      <th>Net migration</th>\n",
       "      <th>Infant mortality (per 1000 births)</th>\n",
       "      <th>GDP ($ per capita)</th>\n",
       "      <th>Literacy (%)</th>\n",
       "      <th>Phones (per 1000)</th>\n",
       "      <th>Arable (%)</th>\n",
       "      <th>Crops (%)</th>\n",
       "      <th>Other (%)</th>\n",
       "      <th>Climate</th>\n",
       "      <th>Birthrate</th>\n",
       "      <th>Deathrate</th>\n",
       "      <th>Agriculture</th>\n",
       "      <th>Industry</th>\n",
       "      <th>Service</th>\n",
       "    </tr>\n",
       "  </thead>\n",
       "  <tbody>\n",
       "    <tr>\n",
       "      <th>0</th>\n",
       "      <td>Afghanistan</td>\n",
       "      <td>ASIA (EX. NEAR EAST)</td>\n",
       "      <td>31056997</td>\n",
       "      <td>647500</td>\n",
       "      <td>48,0</td>\n",
       "      <td>0,00</td>\n",
       "      <td>23,06</td>\n",
       "      <td>163,07</td>\n",
       "      <td>700.0</td>\n",
       "      <td>36,0</td>\n",
       "      <td>3,2</td>\n",
       "      <td>12,13</td>\n",
       "      <td>0,22</td>\n",
       "      <td>87,65</td>\n",
       "      <td>1</td>\n",
       "      <td>46,6</td>\n",
       "      <td>20,34</td>\n",
       "      <td>0,38</td>\n",
       "      <td>0,24</td>\n",
       "      <td>0,38</td>\n",
       "    </tr>\n",
       "    <tr>\n",
       "      <th>1</th>\n",
       "      <td>Albania</td>\n",
       "      <td>EASTERN EUROPE</td>\n",
       "      <td>3581655</td>\n",
       "      <td>28748</td>\n",
       "      <td>124,6</td>\n",
       "      <td>1,26</td>\n",
       "      <td>-4,93</td>\n",
       "      <td>21,52</td>\n",
       "      <td>4500.0</td>\n",
       "      <td>86,5</td>\n",
       "      <td>71,2</td>\n",
       "      <td>21,09</td>\n",
       "      <td>4,42</td>\n",
       "      <td>74,49</td>\n",
       "      <td>3</td>\n",
       "      <td>15,11</td>\n",
       "      <td>5,22</td>\n",
       "      <td>0,232</td>\n",
       "      <td>0,188</td>\n",
       "      <td>0,579</td>\n",
       "    </tr>\n",
       "    <tr>\n",
       "      <th>2</th>\n",
       "      <td>Algeria</td>\n",
       "      <td>NORTHERN AFRICA</td>\n",
       "      <td>32930091</td>\n",
       "      <td>2381740</td>\n",
       "      <td>13,8</td>\n",
       "      <td>0,04</td>\n",
       "      <td>-0,39</td>\n",
       "      <td>31</td>\n",
       "      <td>6000.0</td>\n",
       "      <td>70,0</td>\n",
       "      <td>78,1</td>\n",
       "      <td>3,22</td>\n",
       "      <td>0,25</td>\n",
       "      <td>96,53</td>\n",
       "      <td>1</td>\n",
       "      <td>17,14</td>\n",
       "      <td>4,61</td>\n",
       "      <td>0,101</td>\n",
       "      <td>0,6</td>\n",
       "      <td>0,298</td>\n",
       "    </tr>\n",
       "    <tr>\n",
       "      <th>3</th>\n",
       "      <td>American Samoa</td>\n",
       "      <td>OCEANIA</td>\n",
       "      <td>57794</td>\n",
       "      <td>199</td>\n",
       "      <td>290,4</td>\n",
       "      <td>58,29</td>\n",
       "      <td>-20,71</td>\n",
       "      <td>9,27</td>\n",
       "      <td>8000.0</td>\n",
       "      <td>97,0</td>\n",
       "      <td>259,5</td>\n",
       "      <td>10</td>\n",
       "      <td>15</td>\n",
       "      <td>75</td>\n",
       "      <td>2</td>\n",
       "      <td>22,46</td>\n",
       "      <td>3,27</td>\n",
       "      <td>NaN</td>\n",
       "      <td>NaN</td>\n",
       "      <td>NaN</td>\n",
       "    </tr>\n",
       "    <tr>\n",
       "      <th>4</th>\n",
       "      <td>Andorra</td>\n",
       "      <td>WESTERN EUROPE</td>\n",
       "      <td>71201</td>\n",
       "      <td>468</td>\n",
       "      <td>152,1</td>\n",
       "      <td>0,00</td>\n",
       "      <td>6,6</td>\n",
       "      <td>4,05</td>\n",
       "      <td>19000.0</td>\n",
       "      <td>100,0</td>\n",
       "      <td>497,2</td>\n",
       "      <td>2,22</td>\n",
       "      <td>0</td>\n",
       "      <td>97,78</td>\n",
       "      <td>3</td>\n",
       "      <td>8,71</td>\n",
       "      <td>6,25</td>\n",
       "      <td>NaN</td>\n",
       "      <td>NaN</td>\n",
       "      <td>NaN</td>\n",
       "    </tr>\n",
       "    <tr>\n",
       "      <th>5</th>\n",
       "      <td>Angola</td>\n",
       "      <td>SUB-SAHARAN AFRICA</td>\n",
       "      <td>12127071</td>\n",
       "      <td>1246700</td>\n",
       "      <td>9,7</td>\n",
       "      <td>0,13</td>\n",
       "      <td>0</td>\n",
       "      <td>191,19</td>\n",
       "      <td>1900.0</td>\n",
       "      <td>42,0</td>\n",
       "      <td>7,8</td>\n",
       "      <td>2,41</td>\n",
       "      <td>0,24</td>\n",
       "      <td>97,35</td>\n",
       "      <td>NaN</td>\n",
       "      <td>45,11</td>\n",
       "      <td>24,2</td>\n",
       "      <td>0,096</td>\n",
       "      <td>0,658</td>\n",
       "      <td>0,246</td>\n",
       "    </tr>\n",
       "    <tr>\n",
       "      <th>6</th>\n",
       "      <td>Anguilla</td>\n",
       "      <td>LATIN AMER. &amp; CARIB</td>\n",
       "      <td>13477</td>\n",
       "      <td>102</td>\n",
       "      <td>132,1</td>\n",
       "      <td>59,80</td>\n",
       "      <td>10,76</td>\n",
       "      <td>21,03</td>\n",
       "      <td>8600.0</td>\n",
       "      <td>95,0</td>\n",
       "      <td>460,0</td>\n",
       "      <td>0</td>\n",
       "      <td>0</td>\n",
       "      <td>100</td>\n",
       "      <td>2</td>\n",
       "      <td>14,17</td>\n",
       "      <td>5,34</td>\n",
       "      <td>0,04</td>\n",
       "      <td>0,18</td>\n",
       "      <td>0,78</td>\n",
       "    </tr>\n",
       "    <tr>\n",
       "      <th>7</th>\n",
       "      <td>Antigua &amp; Barbuda</td>\n",
       "      <td>LATIN AMER. &amp; CARIB</td>\n",
       "      <td>69108</td>\n",
       "      <td>443</td>\n",
       "      <td>156,0</td>\n",
       "      <td>34,54</td>\n",
       "      <td>-6,15</td>\n",
       "      <td>19,46</td>\n",
       "      <td>11000.0</td>\n",
       "      <td>89,0</td>\n",
       "      <td>549,9</td>\n",
       "      <td>18,18</td>\n",
       "      <td>4,55</td>\n",
       "      <td>77,27</td>\n",
       "      <td>2</td>\n",
       "      <td>16,93</td>\n",
       "      <td>5,37</td>\n",
       "      <td>0,038</td>\n",
       "      <td>0,22</td>\n",
       "      <td>0,743</td>\n",
       "    </tr>\n",
       "    <tr>\n",
       "      <th>8</th>\n",
       "      <td>Argentina</td>\n",
       "      <td>LATIN AMER. &amp; CARIB</td>\n",
       "      <td>39921833</td>\n",
       "      <td>2766890</td>\n",
       "      <td>14,4</td>\n",
       "      <td>0,18</td>\n",
       "      <td>0,61</td>\n",
       "      <td>15,18</td>\n",
       "      <td>11200.0</td>\n",
       "      <td>97,1</td>\n",
       "      <td>220,4</td>\n",
       "      <td>12,31</td>\n",
       "      <td>0,48</td>\n",
       "      <td>87,21</td>\n",
       "      <td>3</td>\n",
       "      <td>16,73</td>\n",
       "      <td>7,55</td>\n",
       "      <td>0,095</td>\n",
       "      <td>0,358</td>\n",
       "      <td>0,547</td>\n",
       "    </tr>\n",
       "    <tr>\n",
       "      <th>9</th>\n",
       "      <td>Armenia</td>\n",
       "      <td>C.W. OF IND. STATES</td>\n",
       "      <td>2976372</td>\n",
       "      <td>29800</td>\n",
       "      <td>99,9</td>\n",
       "      <td>0,00</td>\n",
       "      <td>-6,47</td>\n",
       "      <td>23,28</td>\n",
       "      <td>3500.0</td>\n",
       "      <td>98,6</td>\n",
       "      <td>195,7</td>\n",
       "      <td>17,55</td>\n",
       "      <td>2,3</td>\n",
       "      <td>80,15</td>\n",
       "      <td>4</td>\n",
       "      <td>12,07</td>\n",
       "      <td>8,23</td>\n",
       "      <td>0,239</td>\n",
       "      <td>0,343</td>\n",
       "      <td>0,418</td>\n",
       "    </tr>\n",
       "  </tbody>\n",
       "</table>\n",
       "</div>"
      ],
      "text/plain": [
       "              Country                               Region  Population  \\\n",
       "0        Afghanistan         ASIA (EX. NEAR EAST)             31056997   \n",
       "1            Albania   EASTERN EUROPE                          3581655   \n",
       "2            Algeria   NORTHERN AFRICA                        32930091   \n",
       "3     American Samoa   OCEANIA                                   57794   \n",
       "4            Andorra   WESTERN EUROPE                            71201   \n",
       "5             Angola   SUB-SAHARAN AFRICA                     12127071   \n",
       "6           Anguilla               LATIN AMER. & CARIB           13477   \n",
       "7  Antigua & Barbuda               LATIN AMER. & CARIB           69108   \n",
       "8          Argentina               LATIN AMER. & CARIB        39921833   \n",
       "9            Armenia                  C.W. OF IND. STATES      2976372   \n",
       "\n",
       "   Area (sq. mi.) Pop. Density (per sq. mi.) Coastline (coast/area ratio)  \\\n",
       "0          647500                       48,0                         0,00   \n",
       "1           28748                      124,6                         1,26   \n",
       "2         2381740                       13,8                         0,04   \n",
       "3             199                      290,4                        58,29   \n",
       "4             468                      152,1                         0,00   \n",
       "5         1246700                        9,7                         0,13   \n",
       "6             102                      132,1                        59,80   \n",
       "7             443                      156,0                        34,54   \n",
       "8         2766890                       14,4                         0,18   \n",
       "9           29800                       99,9                         0,00   \n",
       "\n",
       "  Net migration Infant mortality (per 1000 births)  GDP ($ per capita)  \\\n",
       "0         23,06                             163,07               700.0   \n",
       "1         -4,93                              21,52              4500.0   \n",
       "2         -0,39                                 31              6000.0   \n",
       "3        -20,71                               9,27              8000.0   \n",
       "4           6,6                               4,05             19000.0   \n",
       "5             0                             191,19              1900.0   \n",
       "6         10,76                              21,03              8600.0   \n",
       "7         -6,15                              19,46             11000.0   \n",
       "8          0,61                              15,18             11200.0   \n",
       "9         -6,47                              23,28              3500.0   \n",
       "\n",
       "  Literacy (%) Phones (per 1000) Arable (%) Crops (%) Other (%) Climate  \\\n",
       "0         36,0               3,2      12,13      0,22     87,65       1   \n",
       "1         86,5              71,2      21,09      4,42     74,49       3   \n",
       "2         70,0              78,1       3,22      0,25     96,53       1   \n",
       "3         97,0             259,5         10        15        75       2   \n",
       "4        100,0             497,2       2,22         0     97,78       3   \n",
       "5         42,0               7,8       2,41      0,24     97,35     NaN   \n",
       "6         95,0             460,0          0         0       100       2   \n",
       "7         89,0             549,9      18,18      4,55     77,27       2   \n",
       "8         97,1             220,4      12,31      0,48     87,21       3   \n",
       "9         98,6             195,7      17,55       2,3     80,15       4   \n",
       "\n",
       "  Birthrate Deathrate Agriculture Industry Service  \n",
       "0      46,6     20,34        0,38     0,24    0,38  \n",
       "1     15,11      5,22       0,232    0,188   0,579  \n",
       "2     17,14      4,61       0,101      0,6   0,298  \n",
       "3     22,46      3,27         NaN      NaN     NaN  \n",
       "4      8,71      6,25         NaN      NaN     NaN  \n",
       "5     45,11      24,2       0,096    0,658   0,246  \n",
       "6     14,17      5,34        0,04     0,18    0,78  \n",
       "7     16,93      5,37       0,038     0,22   0,743  \n",
       "8     16,73      7,55       0,095    0,358   0,547  \n",
       "9     12,07      8,23       0,239    0,343   0,418  "
      ]
     },
     "execution_count": 4,
     "metadata": {},
     "output_type": "execute_result"
    }
   ],
   "source": [
    "tab.head(10)"
   ]
  },
  {
   "cell_type": "markdown",
   "metadata": {},
   "source": [
    "Informações sobre as colunas e quantidade de dados da tabela podem ser obtidas por meio do método 'info()'. No resultado abaixo é possível notar que existem colunas sem dados na tabela, ou seja, nem todas as colunas possuem 227 dados. Isto pode afetar os resultados obtidos caso não se realize nenhum tratamento na tabela."
   ]
  },
  {
   "cell_type": "code",
   "execution_count": 5,
   "metadata": {},
   "outputs": [
    {
     "name": "stdout",
     "output_type": "stream",
     "text": [
      "<class 'pandas.core.frame.DataFrame'>\n",
      "RangeIndex: 227 entries, 0 to 226\n",
      "Data columns (total 20 columns):\n",
      "Country                               227 non-null object\n",
      "Region                                227 non-null object\n",
      "Population                            227 non-null int64\n",
      "Area (sq. mi.)                        227 non-null int64\n",
      "Pop. Density (per sq. mi.)            227 non-null object\n",
      "Coastline (coast/area ratio)          227 non-null object\n",
      "Net migration                         224 non-null object\n",
      "Infant mortality (per 1000 births)    224 non-null object\n",
      "GDP ($ per capita)                    226 non-null float64\n",
      "Literacy (%)                          209 non-null object\n",
      "Phones (per 1000)                     223 non-null object\n",
      "Arable (%)                            225 non-null object\n",
      "Crops (%)                             225 non-null object\n",
      "Other (%)                             225 non-null object\n",
      "Climate                               205 non-null object\n",
      "Birthrate                             224 non-null object\n",
      "Deathrate                             223 non-null object\n",
      "Agriculture                           212 non-null object\n",
      "Industry                              211 non-null object\n",
      "Service                               212 non-null object\n",
      "dtypes: float64(1), int64(2), object(17)\n",
      "memory usage: 35.5+ KB\n"
     ]
    }
   ],
   "source": [
    "tab.info()"
   ]
  },
  {
   "cell_type": "markdown",
   "metadata": {},
   "source": [
    "Número de regiões diferentes no mundo e quantidade de países em cada uma delas. Isto é possível obter por meio do método 'value_counts', conforme abaixo. Este método fornece a quantidade de valores únicos de acordo com a coluna, por exemplo abaixo foram encontrados 51 países diferentes cuja região era 'SUB-SAHARAN AFRICA'.\n",
    "O método plot.bar() cria o gráfico de barras abaixo. O método plot da biblioteca Matplotlib é bastante semelhante aos métodos de plotagem do programa Matlab."
   ]
  },
  {
   "cell_type": "code",
   "execution_count": 6,
   "metadata": {},
   "outputs": [
    {
     "data": {
      "text/plain": [
       "Text(0.5, 1.0, 'Quantidade de países por região do mundo')"
      ]
     },
     "execution_count": 6,
     "metadata": {},
     "output_type": "execute_result"
    },
    {
     "data": {
      "image/png": "[encoded data removed]",
      "text/plain": [
       "<Figure size 1008x360 with 1 Axes>"
      ]
     },
     "metadata": {
      "needs_background": "light"
     },
     "output_type": "display_data"
    }
   ],
   "source": [
    "y = tab['Region'].value_counts()\n",
    "\n",
    "y.plot.bar(figsize=(14,5))\n",
    "plt.ylabel('Número de países')\n",
    "plt.grid(axis='y')\n",
    "plt.title('Quantidade de países por região do mundo', fontsize=16)"
   ]
  },
  {
   "cell_type": "markdown",
   "metadata": {},
   "source": [
    "Os cinco maiores países em área. Por meio do método 'sort_values()' aplicado à coluna correspondente à área de cada um dos países. A opção 'ascending=False' organiza os valores em ordem decrescente. "
   ]
  },
  {
   "cell_type": "code",
   "execution_count": 7,
   "metadata": {},
   "outputs": [
    {
     "data": {
      "text/plain": [
       "169    17075200\n",
       "36      9984670\n",
       "214     9631420\n",
       "42      9596960\n",
       "27      8511965\n",
       "Name: Area (sq. mi.), dtype: int64"
      ]
     },
     "execution_count": 7,
     "metadata": {},
     "output_type": "execute_result"
    }
   ],
   "source": [
    "tab['Area (sq. mi.)'].sort_values(ascending=False).head(5)"
   ]
  },
  {
   "cell_type": "markdown",
   "metadata": {},
   "source": [
    "Porém neste filtro aparece apenas o índice dos países de acordo com a área em ordem decrescente. Para melhor visualização, é possível utilizar o método 'sort_values( )' diretamente na tabela e não apenas na coluna, colocando nas opções a coluna de interesse para ser filtrada."
   ]
  },
  {
   "cell_type": "code",
   "execution_count": 8,
   "metadata": {},
   "outputs": [
    {
     "data": {
      "text/html": [
       "<div>\n",
       "<style scoped>\n",
       "    .dataframe tbody tr th:only-of-type {\n",
       "        vertical-align: middle;\n",
       "    }\n",
       "\n",
       "    .dataframe tbody tr th {\n",
       "        vertical-align: top;\n",
       "    }\n",
       "\n",
       "    .dataframe thead th {\n",
       "        text-align: right;\n",
       "    }\n",
       "</style>\n",
       "<table border=\"1\" class=\"dataframe\">\n",
       "  <thead>\n",
       "    <tr style=\"text-align: right;\">\n",
       "      <th></th>\n",
       "      <th>Country</th>\n",
       "      <th>Region</th>\n",
       "      <th>Population</th>\n",
       "      <th>Area (sq. mi.)</th>\n",
       "      <th>Pop. Density (per sq. mi.)</th>\n",
       "      <th>Coastline (coast/area ratio)</th>\n",
       "      <th>Net migration</th>\n",
       "      <th>Infant mortality (per 1000 births)</th>\n",
       "      <th>GDP ($ per capita)</th>\n",
       "      <th>Literacy (%)</th>\n",
       "      <th>Phones (per 1000)</th>\n",
       "      <th>Arable (%)</th>\n",
       "      <th>Crops (%)</th>\n",
       "      <th>Other (%)</th>\n",
       "      <th>Climate</th>\n",
       "      <th>Birthrate</th>\n",
       "      <th>Deathrate</th>\n",
       "      <th>Agriculture</th>\n",
       "      <th>Industry</th>\n",
       "      <th>Service</th>\n",
       "    </tr>\n",
       "  </thead>\n",
       "  <tbody>\n",
       "    <tr>\n",
       "      <th>169</th>\n",
       "      <td>Russia</td>\n",
       "      <td>C.W. OF IND. STATES</td>\n",
       "      <td>142893540</td>\n",
       "      <td>17075200</td>\n",
       "      <td>8,4</td>\n",
       "      <td>0,22</td>\n",
       "      <td>1,02</td>\n",
       "      <td>15,39</td>\n",
       "      <td>8900.0</td>\n",
       "      <td>99,6</td>\n",
       "      <td>280,6</td>\n",
       "      <td>7,33</td>\n",
       "      <td>0,11</td>\n",
       "      <td>92,56</td>\n",
       "      <td>NaN</td>\n",
       "      <td>9,95</td>\n",
       "      <td>14,65</td>\n",
       "      <td>0,054</td>\n",
       "      <td>0,371</td>\n",
       "      <td>0,575</td>\n",
       "    </tr>\n",
       "    <tr>\n",
       "      <th>36</th>\n",
       "      <td>Canada</td>\n",
       "      <td>NORTHERN AMERICA</td>\n",
       "      <td>33098932</td>\n",
       "      <td>9984670</td>\n",
       "      <td>3,3</td>\n",
       "      <td>2,02</td>\n",
       "      <td>5,96</td>\n",
       "      <td>4,75</td>\n",
       "      <td>29800.0</td>\n",
       "      <td>97,0</td>\n",
       "      <td>552,2</td>\n",
       "      <td>4,96</td>\n",
       "      <td>0,02</td>\n",
       "      <td>95,02</td>\n",
       "      <td>NaN</td>\n",
       "      <td>10,78</td>\n",
       "      <td>7,8</td>\n",
       "      <td>0,022</td>\n",
       "      <td>0,294</td>\n",
       "      <td>0,684</td>\n",
       "    </tr>\n",
       "    <tr>\n",
       "      <th>214</th>\n",
       "      <td>United States</td>\n",
       "      <td>NORTHERN AMERICA</td>\n",
       "      <td>298444215</td>\n",
       "      <td>9631420</td>\n",
       "      <td>31,0</td>\n",
       "      <td>0,21</td>\n",
       "      <td>3,41</td>\n",
       "      <td>6,5</td>\n",
       "      <td>37800.0</td>\n",
       "      <td>97,0</td>\n",
       "      <td>898,0</td>\n",
       "      <td>19,13</td>\n",
       "      <td>0,22</td>\n",
       "      <td>80,65</td>\n",
       "      <td>3</td>\n",
       "      <td>14,14</td>\n",
       "      <td>8,26</td>\n",
       "      <td>0,01</td>\n",
       "      <td>0,204</td>\n",
       "      <td>0,787</td>\n",
       "    </tr>\n",
       "    <tr>\n",
       "      <th>42</th>\n",
       "      <td>China</td>\n",
       "      <td>ASIA (EX. NEAR EAST)</td>\n",
       "      <td>1313973713</td>\n",
       "      <td>9596960</td>\n",
       "      <td>136,9</td>\n",
       "      <td>0,15</td>\n",
       "      <td>-0,4</td>\n",
       "      <td>24,18</td>\n",
       "      <td>5000.0</td>\n",
       "      <td>90,9</td>\n",
       "      <td>266,7</td>\n",
       "      <td>15,4</td>\n",
       "      <td>1,25</td>\n",
       "      <td>83,35</td>\n",
       "      <td>1,5</td>\n",
       "      <td>13,25</td>\n",
       "      <td>6,97</td>\n",
       "      <td>0,125</td>\n",
       "      <td>0,473</td>\n",
       "      <td>0,403</td>\n",
       "    </tr>\n",
       "    <tr>\n",
       "      <th>27</th>\n",
       "      <td>Brazil</td>\n",
       "      <td>LATIN AMER. &amp; CARIB</td>\n",
       "      <td>188078227</td>\n",
       "      <td>8511965</td>\n",
       "      <td>22,1</td>\n",
       "      <td>0,09</td>\n",
       "      <td>-0,03</td>\n",
       "      <td>29,61</td>\n",
       "      <td>7600.0</td>\n",
       "      <td>86,4</td>\n",
       "      <td>225,3</td>\n",
       "      <td>6,96</td>\n",
       "      <td>0,9</td>\n",
       "      <td>92,15</td>\n",
       "      <td>2</td>\n",
       "      <td>16,56</td>\n",
       "      <td>6,17</td>\n",
       "      <td>0,084</td>\n",
       "      <td>0,4</td>\n",
       "      <td>0,516</td>\n",
       "    </tr>\n",
       "  </tbody>\n",
       "</table>\n",
       "</div>"
      ],
      "text/plain": [
       "            Country                               Region  Population  \\\n",
       "169         Russia                  C.W. OF IND. STATES    142893540   \n",
       "36          Canada   NORTHERN AMERICA                       33098932   \n",
       "214  United States   NORTHERN AMERICA                      298444215   \n",
       "42           China         ASIA (EX. NEAR EAST)           1313973713   \n",
       "27          Brazil               LATIN AMER. & CARIB       188078227   \n",
       "\n",
       "     Area (sq. mi.) Pop. Density (per sq. mi.) Coastline (coast/area ratio)  \\\n",
       "169        17075200                        8,4                         0,22   \n",
       "36          9984670                        3,3                         2,02   \n",
       "214         9631420                       31,0                         0,21   \n",
       "42          9596960                      136,9                         0,15   \n",
       "27          8511965                       22,1                         0,09   \n",
       "\n",
       "    Net migration Infant mortality (per 1000 births)  GDP ($ per capita)  \\\n",
       "169          1,02                              15,39              8900.0   \n",
       "36           5,96                               4,75             29800.0   \n",
       "214          3,41                                6,5             37800.0   \n",
       "42           -0,4                              24,18              5000.0   \n",
       "27          -0,03                              29,61              7600.0   \n",
       "\n",
       "    Literacy (%) Phones (per 1000) Arable (%) Crops (%) Other (%) Climate  \\\n",
       "169         99,6             280,6       7,33      0,11     92,56     NaN   \n",
       "36          97,0             552,2       4,96      0,02     95,02     NaN   \n",
       "214         97,0             898,0      19,13      0,22     80,65       3   \n",
       "42          90,9             266,7       15,4      1,25     83,35     1,5   \n",
       "27          86,4             225,3       6,96       0,9     92,15       2   \n",
       "\n",
       "    Birthrate Deathrate Agriculture Industry Service  \n",
       "169      9,95     14,65       0,054    0,371   0,575  \n",
       "36      10,78       7,8       0,022    0,294   0,684  \n",
       "214     14,14      8,26        0,01    0,204   0,787  \n",
       "42      13,25      6,97       0,125    0,473   0,403  \n",
       "27      16,56      6,17       0,084      0,4   0,516  "
      ]
     },
     "execution_count": 8,
     "metadata": {},
     "output_type": "execute_result"
    }
   ],
   "source": [
    "tab.sort_values('Area (sq. mi.)', ascending=False).head(5)"
   ]
  },
  {
   "cell_type": "markdown",
   "metadata": {},
   "source": [
    "De forma análoga, os 5 países com maior população."
   ]
  },
  {
   "cell_type": "code",
   "execution_count": 9,
   "metadata": {},
   "outputs": [
    {
     "data": {
      "text/html": [
       "<div>\n",
       "<style scoped>\n",
       "    .dataframe tbody tr th:only-of-type {\n",
       "        vertical-align: middle;\n",
       "    }\n",
       "\n",
       "    .dataframe tbody tr th {\n",
       "        vertical-align: top;\n",
       "    }\n",
       "\n",
       "    .dataframe thead th {\n",
       "        text-align: right;\n",
       "    }\n",
       "</style>\n",
       "<table border=\"1\" class=\"dataframe\">\n",
       "  <thead>\n",
       "    <tr style=\"text-align: right;\">\n",
       "      <th></th>\n",
       "      <th>Country</th>\n",
       "      <th>Region</th>\n",
       "      <th>Population</th>\n",
       "      <th>Area (sq. mi.)</th>\n",
       "      <th>Pop. Density (per sq. mi.)</th>\n",
       "      <th>Coastline (coast/area ratio)</th>\n",
       "      <th>Net migration</th>\n",
       "      <th>Infant mortality (per 1000 births)</th>\n",
       "      <th>GDP ($ per capita)</th>\n",
       "      <th>Literacy (%)</th>\n",
       "      <th>Phones (per 1000)</th>\n",
       "      <th>Arable (%)</th>\n",
       "      <th>Crops (%)</th>\n",
       "      <th>Other (%)</th>\n",
       "      <th>Climate</th>\n",
       "      <th>Birthrate</th>\n",
       "      <th>Deathrate</th>\n",
       "      <th>Agriculture</th>\n",
       "      <th>Industry</th>\n",
       "      <th>Service</th>\n",
       "    </tr>\n",
       "  </thead>\n",
       "  <tbody>\n",
       "    <tr>\n",
       "      <th>42</th>\n",
       "      <td>China</td>\n",
       "      <td>ASIA (EX. NEAR EAST)</td>\n",
       "      <td>1313973713</td>\n",
       "      <td>9596960</td>\n",
       "      <td>136,9</td>\n",
       "      <td>0,15</td>\n",
       "      <td>-0,4</td>\n",
       "      <td>24,18</td>\n",
       "      <td>5000.0</td>\n",
       "      <td>90,9</td>\n",
       "      <td>266,7</td>\n",
       "      <td>15,4</td>\n",
       "      <td>1,25</td>\n",
       "      <td>83,35</td>\n",
       "      <td>1,5</td>\n",
       "      <td>13,25</td>\n",
       "      <td>6,97</td>\n",
       "      <td>0,125</td>\n",
       "      <td>0,473</td>\n",
       "      <td>0,403</td>\n",
       "    </tr>\n",
       "    <tr>\n",
       "      <th>94</th>\n",
       "      <td>India</td>\n",
       "      <td>ASIA (EX. NEAR EAST)</td>\n",
       "      <td>1095351995</td>\n",
       "      <td>3287590</td>\n",
       "      <td>333,2</td>\n",
       "      <td>0,21</td>\n",
       "      <td>-0,07</td>\n",
       "      <td>56,29</td>\n",
       "      <td>2900.0</td>\n",
       "      <td>59,5</td>\n",
       "      <td>45,4</td>\n",
       "      <td>54,4</td>\n",
       "      <td>2,74</td>\n",
       "      <td>42,86</td>\n",
       "      <td>2,5</td>\n",
       "      <td>22,01</td>\n",
       "      <td>8,18</td>\n",
       "      <td>0,186</td>\n",
       "      <td>0,276</td>\n",
       "      <td>0,538</td>\n",
       "    </tr>\n",
       "    <tr>\n",
       "      <th>214</th>\n",
       "      <td>United States</td>\n",
       "      <td>NORTHERN AMERICA</td>\n",
       "      <td>298444215</td>\n",
       "      <td>9631420</td>\n",
       "      <td>31,0</td>\n",
       "      <td>0,21</td>\n",
       "      <td>3,41</td>\n",
       "      <td>6,5</td>\n",
       "      <td>37800.0</td>\n",
       "      <td>97,0</td>\n",
       "      <td>898,0</td>\n",
       "      <td>19,13</td>\n",
       "      <td>0,22</td>\n",
       "      <td>80,65</td>\n",
       "      <td>3</td>\n",
       "      <td>14,14</td>\n",
       "      <td>8,26</td>\n",
       "      <td>0,01</td>\n",
       "      <td>0,204</td>\n",
       "      <td>0,787</td>\n",
       "    </tr>\n",
       "    <tr>\n",
       "      <th>95</th>\n",
       "      <td>Indonesia</td>\n",
       "      <td>ASIA (EX. NEAR EAST)</td>\n",
       "      <td>245452739</td>\n",
       "      <td>1919440</td>\n",
       "      <td>127,9</td>\n",
       "      <td>2,85</td>\n",
       "      <td>0</td>\n",
       "      <td>35,6</td>\n",
       "      <td>3200.0</td>\n",
       "      <td>87,9</td>\n",
       "      <td>52,0</td>\n",
       "      <td>11,32</td>\n",
       "      <td>7,23</td>\n",
       "      <td>81,45</td>\n",
       "      <td>2</td>\n",
       "      <td>20,34</td>\n",
       "      <td>6,25</td>\n",
       "      <td>0,134</td>\n",
       "      <td>0,458</td>\n",
       "      <td>0,408</td>\n",
       "    </tr>\n",
       "    <tr>\n",
       "      <th>27</th>\n",
       "      <td>Brazil</td>\n",
       "      <td>LATIN AMER. &amp; CARIB</td>\n",
       "      <td>188078227</td>\n",
       "      <td>8511965</td>\n",
       "      <td>22,1</td>\n",
       "      <td>0,09</td>\n",
       "      <td>-0,03</td>\n",
       "      <td>29,61</td>\n",
       "      <td>7600.0</td>\n",
       "      <td>86,4</td>\n",
       "      <td>225,3</td>\n",
       "      <td>6,96</td>\n",
       "      <td>0,9</td>\n",
       "      <td>92,15</td>\n",
       "      <td>2</td>\n",
       "      <td>16,56</td>\n",
       "      <td>6,17</td>\n",
       "      <td>0,084</td>\n",
       "      <td>0,4</td>\n",
       "      <td>0,516</td>\n",
       "    </tr>\n",
       "  </tbody>\n",
       "</table>\n",
       "</div>"
      ],
      "text/plain": [
       "            Country                               Region  Population  \\\n",
       "42           China         ASIA (EX. NEAR EAST)           1313973713   \n",
       "94           India         ASIA (EX. NEAR EAST)           1095351995   \n",
       "214  United States   NORTHERN AMERICA                      298444215   \n",
       "95       Indonesia         ASIA (EX. NEAR EAST)            245452739   \n",
       "27          Brazil               LATIN AMER. & CARIB       188078227   \n",
       "\n",
       "     Area (sq. mi.) Pop. Density (per sq. mi.) Coastline (coast/area ratio)  \\\n",
       "42          9596960                      136,9                         0,15   \n",
       "94          3287590                      333,2                         0,21   \n",
       "214         9631420                       31,0                         0,21   \n",
       "95          1919440                      127,9                         2,85   \n",
       "27          8511965                       22,1                         0,09   \n",
       "\n",
       "    Net migration Infant mortality (per 1000 births)  GDP ($ per capita)  \\\n",
       "42           -0,4                              24,18              5000.0   \n",
       "94          -0,07                              56,29              2900.0   \n",
       "214          3,41                                6,5             37800.0   \n",
       "95              0                               35,6              3200.0   \n",
       "27          -0,03                              29,61              7600.0   \n",
       "\n",
       "    Literacy (%) Phones (per 1000) Arable (%) Crops (%) Other (%) Climate  \\\n",
       "42          90,9             266,7       15,4      1,25     83,35     1,5   \n",
       "94          59,5              45,4       54,4      2,74     42,86     2,5   \n",
       "214         97,0             898,0      19,13      0,22     80,65       3   \n",
       "95          87,9              52,0      11,32      7,23     81,45       2   \n",
       "27          86,4             225,3       6,96       0,9     92,15       2   \n",
       "\n",
       "    Birthrate Deathrate Agriculture Industry Service  \n",
       "42      13,25      6,97       0,125    0,473   0,403  \n",
       "94      22,01      8,18       0,186    0,276   0,538  \n",
       "214     14,14      8,26        0,01    0,204   0,787  \n",
       "95      20,34      6,25       0,134    0,458   0,408  \n",
       "27      16,56      6,17       0,084      0,4   0,516  "
      ]
     },
     "execution_count": 9,
     "metadata": {},
     "output_type": "execute_result"
    }
   ],
   "source": [
    "tab.sort_values('Population', ascending=False).head(5)"
   ]
  },
  {
   "cell_type": "markdown",
   "metadata": {},
   "source": [
    "O país mais densamente povoado pode ser encontrado por meio do método 'max()' que retorna o maior valor entre os valores da coluna escolhida."
   ]
  },
  {
   "cell_type": "code",
   "execution_count": 10,
   "metadata": {},
   "outputs": [
    {
     "data": {
      "text/html": [
       "<div>\n",
       "<style scoped>\n",
       "    .dataframe tbody tr th:only-of-type {\n",
       "        vertical-align: middle;\n",
       "    }\n",
       "\n",
       "    .dataframe tbody tr th {\n",
       "        vertical-align: top;\n",
       "    }\n",
       "\n",
       "    .dataframe thead th {\n",
       "        text-align: right;\n",
       "    }\n",
       "</style>\n",
       "<table border=\"1\" class=\"dataframe\">\n",
       "  <thead>\n",
       "    <tr style=\"text-align: right;\">\n",
       "      <th></th>\n",
       "      <th>Country</th>\n",
       "      <th>Region</th>\n",
       "      <th>Population</th>\n",
       "      <th>Area (sq. mi.)</th>\n",
       "      <th>Pop. Density (per sq. mi.)</th>\n",
       "      <th>Coastline (coast/area ratio)</th>\n",
       "      <th>Net migration</th>\n",
       "      <th>Infant mortality (per 1000 births)</th>\n",
       "      <th>GDP ($ per capita)</th>\n",
       "      <th>Literacy (%)</th>\n",
       "      <th>Phones (per 1000)</th>\n",
       "      <th>Arable (%)</th>\n",
       "      <th>Crops (%)</th>\n",
       "      <th>Other (%)</th>\n",
       "      <th>Climate</th>\n",
       "      <th>Birthrate</th>\n",
       "      <th>Deathrate</th>\n",
       "      <th>Agriculture</th>\n",
       "      <th>Industry</th>\n",
       "      <th>Service</th>\n",
       "    </tr>\n",
       "  </thead>\n",
       "  <tbody>\n",
       "    <tr>\n",
       "      <th>9</th>\n",
       "      <td>Armenia</td>\n",
       "      <td>C.W. OF IND. STATES</td>\n",
       "      <td>2976372</td>\n",
       "      <td>29800</td>\n",
       "      <td>99,9</td>\n",
       "      <td>0,00</td>\n",
       "      <td>-6,47</td>\n",
       "      <td>23,28</td>\n",
       "      <td>3500.0</td>\n",
       "      <td>98,6</td>\n",
       "      <td>195,7</td>\n",
       "      <td>17,55</td>\n",
       "      <td>2,3</td>\n",
       "      <td>80,15</td>\n",
       "      <td>4</td>\n",
       "      <td>12,07</td>\n",
       "      <td>8,23</td>\n",
       "      <td>0,239</td>\n",
       "      <td>0,343</td>\n",
       "      <td>0,418</td>\n",
       "    </tr>\n",
       "  </tbody>\n",
       "</table>\n",
       "</div>"
      ],
      "text/plain": [
       "    Country                Region  Population  Area (sq. mi.)  \\\n",
       "9  Armenia   C.W. OF IND. STATES      2976372           29800   \n",
       "\n",
       "  Pop. Density (per sq. mi.) Coastline (coast/area ratio) Net migration  \\\n",
       "9                       99,9                         0,00         -6,47   \n",
       "\n",
       "  Infant mortality (per 1000 births)  GDP ($ per capita) Literacy (%)  \\\n",
       "9                              23,28              3500.0         98,6   \n",
       "\n",
       "  Phones (per 1000) Arable (%) Crops (%) Other (%) Climate Birthrate  \\\n",
       "9             195,7      17,55       2,3     80,15       4     12,07   \n",
       "\n",
       "  Deathrate Agriculture Industry Service  \n",
       "9      8,23       0,239    0,343   0,418  "
      ]
     },
     "execution_count": 10,
     "metadata": {},
     "output_type": "execute_result"
    }
   ],
   "source": [
    "tab[tab['Pop. Density (per sq. mi.)']== tab['Pop. Density (per sq. mi.)'].max()]"
   ]
  },
  {
   "cell_type": "markdown",
   "metadata": {},
   "source": [
    "O país menos densamente povoado pode ser encontrado por meio do método 'min()' que retorna o menor valor entre os valores da coluna escolhida."
   ]
  },
  {
   "cell_type": "code",
   "execution_count": 11,
   "metadata": {},
   "outputs": [
    {
     "data": {
      "text/html": [
       "<div>\n",
       "<style scoped>\n",
       "    .dataframe tbody tr th:only-of-type {\n",
       "        vertical-align: middle;\n",
       "    }\n",
       "\n",
       "    .dataframe tbody tr th {\n",
       "        vertical-align: top;\n",
       "    }\n",
       "\n",
       "    .dataframe thead th {\n",
       "        text-align: right;\n",
       "    }\n",
       "</style>\n",
       "<table border=\"1\" class=\"dataframe\">\n",
       "  <thead>\n",
       "    <tr style=\"text-align: right;\">\n",
       "      <th></th>\n",
       "      <th>Country</th>\n",
       "      <th>Region</th>\n",
       "      <th>Population</th>\n",
       "      <th>Area (sq. mi.)</th>\n",
       "      <th>Pop. Density (per sq. mi.)</th>\n",
       "      <th>Coastline (coast/area ratio)</th>\n",
       "      <th>Net migration</th>\n",
       "      <th>Infant mortality (per 1000 births)</th>\n",
       "      <th>GDP ($ per capita)</th>\n",
       "      <th>Literacy (%)</th>\n",
       "      <th>Phones (per 1000)</th>\n",
       "      <th>Arable (%)</th>\n",
       "      <th>Crops (%)</th>\n",
       "      <th>Other (%)</th>\n",
       "      <th>Climate</th>\n",
       "      <th>Birthrate</th>\n",
       "      <th>Deathrate</th>\n",
       "      <th>Agriculture</th>\n",
       "      <th>Industry</th>\n",
       "      <th>Service</th>\n",
       "    </tr>\n",
       "  </thead>\n",
       "  <tbody>\n",
       "    <tr>\n",
       "      <th>80</th>\n",
       "      <td>Greenland</td>\n",
       "      <td>NORTHERN AMERICA</td>\n",
       "      <td>56361</td>\n",
       "      <td>2166086</td>\n",
       "      <td>0,0</td>\n",
       "      <td>2,04</td>\n",
       "      <td>-8,37</td>\n",
       "      <td>15,82</td>\n",
       "      <td>20000.0</td>\n",
       "      <td>NaN</td>\n",
       "      <td>448,9</td>\n",
       "      <td>0</td>\n",
       "      <td>0</td>\n",
       "      <td>100</td>\n",
       "      <td>1</td>\n",
       "      <td>15,93</td>\n",
       "      <td>7,84</td>\n",
       "      <td>NaN</td>\n",
       "      <td>NaN</td>\n",
       "      <td>NaN</td>\n",
       "    </tr>\n",
       "  </tbody>\n",
       "</table>\n",
       "</div>"
      ],
      "text/plain": [
       "       Country                               Region  Population  \\\n",
       "80  Greenland   NORTHERN AMERICA                          56361   \n",
       "\n",
       "    Area (sq. mi.) Pop. Density (per sq. mi.) Coastline (coast/area ratio)  \\\n",
       "80         2166086                        0,0                         2,04   \n",
       "\n",
       "   Net migration Infant mortality (per 1000 births)  GDP ($ per capita)  \\\n",
       "80         -8,37                              15,82             20000.0   \n",
       "\n",
       "   Literacy (%) Phones (per 1000) Arable (%) Crops (%) Other (%) Climate  \\\n",
       "80          NaN             448,9          0         0       100       1   \n",
       "\n",
       "   Birthrate Deathrate Agriculture Industry Service  \n",
       "80     15,93      7,84         NaN      NaN     NaN  "
      ]
     },
     "execution_count": 11,
     "metadata": {},
     "output_type": "execute_result"
    }
   ],
   "source": [
    "tab[tab['Pop. Density (per sq. mi.)']== tab['Pop. Density (per sq. mi.)'].min()]"
   ]
  },
  {
   "cell_type": "markdown",
   "metadata": {},
   "source": [
    "Como podemos observar abaixo, os tipos de alguns de nossos objetos não são 'float', portanto se torna difícil utilizar esses dados. Portanto, vou mudar os títulos das colunas da tabela e converter os dados para usá-los livremente."
   ]
  },
  {
   "cell_type": "code",
   "execution_count": 12,
   "metadata": {},
   "outputs": [
    {
     "data": {
      "text/plain": [
       "Country                                object\n",
       "Region                                 object\n",
       "Population                              int64\n",
       "Area (sq. mi.)                          int64\n",
       "Pop. Density (per sq. mi.)             object\n",
       "Coastline (coast/area ratio)           object\n",
       "Net migration                          object\n",
       "Infant mortality (per 1000 births)     object\n",
       "GDP ($ per capita)                    float64\n",
       "Literacy (%)                           object\n",
       "Phones (per 1000)                      object\n",
       "Arable (%)                             object\n",
       "Crops (%)                              object\n",
       "Other (%)                              object\n",
       "Climate                                object\n",
       "Birthrate                              object\n",
       "Deathrate                              object\n",
       "Agriculture                            object\n",
       "Industry                               object\n",
       "Service                                object\n",
       "dtype: object"
      ]
     },
     "execution_count": 12,
     "metadata": {},
     "output_type": "execute_result"
    }
   ],
   "source": [
    "tab.dtypes"
   ]
  },
  {
   "cell_type": "code",
   "execution_count": 13,
   "metadata": {},
   "outputs": [],
   "source": [
    "tab.columns = ([\"country\",\"region\",\"population\",\"area\",\"density\",\"coastline\",\"migration\",\"infant_mortality\",\"gdp\",\"literacy\",\"phones\",\"arable\",\"crops\",\"other\",\"climate\",\"birthrate\",\"deathrate\",\"agriculture\",\"industry\",\"service\"])"
   ]
  },
  {
   "cell_type": "code",
   "execution_count": 14,
   "metadata": {},
   "outputs": [],
   "source": [
    "tab.country = tab.country.astype('category')\n",
    "tab.region = tab.region.astype('category')\n",
    "tab.density = tab.density.str.replace(\",\",\".\").astype(float)\n",
    "tab.coastline = tab.coastline.str.replace(\",\",\".\").astype(float)\n",
    "tab.migration = tab.migration.str.replace(\",\",\".\").astype(float)\n",
    "tab.infant_mortality = tab.infant_mortality.str.replace(\",\",\".\").astype(float)\n",
    "tab.literacy = tab.literacy.str.replace(\",\",\".\").astype(float)\n",
    "tab.phones = tab.phones.str.replace(\",\",\".\").astype(float)\n",
    "tab.arable = tab.arable.str.replace(\",\",\".\").astype(float)\n",
    "tab.crops = tab.crops.str.replace(\",\",\".\").astype(float)\n",
    "tab.other = tab.other.str.replace(\",\",\".\").astype(float)\n",
    "tab.climate = tab.climate.str.replace(\",\",\".\").astype(float)\n",
    "tab.birthrate = tab.birthrate.str.replace(\",\",\".\").astype(float)\n",
    "tab.deathrate = tab.deathrate.str.replace(\",\",\".\").astype(float)\n",
    "tab.agriculture = tab.agriculture.str.replace(\",\",\".\").astype(float)\n",
    "tab.industry = tab.industry.str.replace(\",\",\".\").astype(float)\n",
    "tab.service = tab.service.str.replace(\",\",\".\").astype(float)"
   ]
  },
  {
   "cell_type": "markdown",
   "metadata": {},
   "source": [
    "Exibindo os tipos de dados novamente, para verificar as mudanças."
   ]
  },
  {
   "cell_type": "code",
   "execution_count": 15,
   "metadata": {},
   "outputs": [
    {
     "data": {
      "text/plain": [
       "country             category\n",
       "region              category\n",
       "population             int64\n",
       "area                   int64\n",
       "density              float64\n",
       "coastline            float64\n",
       "migration            float64\n",
       "infant_mortality     float64\n",
       "gdp                  float64\n",
       "literacy             float64\n",
       "phones               float64\n",
       "arable               float64\n",
       "crops                float64\n",
       "other                float64\n",
       "climate              float64\n",
       "birthrate            float64\n",
       "deathrate            float64\n",
       "agriculture          float64\n",
       "industry             float64\n",
       "service              float64\n",
       "dtype: object"
      ]
     },
     "execution_count": 15,
     "metadata": {},
     "output_type": "execute_result"
    }
   ],
   "source": [
    "tab.dtypes"
   ]
  },
  {
   "cell_type": "markdown",
   "metadata": {},
   "source": [
    "Agora, vou plotar um gráfico mostrando a relação de '$ per capita' e 'Phones (per 1000)'. No gráfico é possível verificar uma tendência de que quando um valor aumenta, o outro também apresenta um aumento."
   ]
  },
  {
   "cell_type": "code",
   "execution_count": 16,
   "metadata": {},
   "outputs": [
    {
     "data": {
      "text/plain": [
       "Text(0.5, 1.0, 'Relação entre telefones celular e PIB per capita')"
      ]
     },
     "execution_count": 16,
     "metadata": {},
     "output_type": "execute_result"
    },
    {
     "data": {
      "image/png": "[encoded data removed]",
      "text/plain": [
       "<Figure size 1008x432 with 1 Axes>"
      ]
     },
     "metadata": {
      "needs_background": "light"
     },
     "output_type": "display_data"
    }
   ],
   "source": [
    "tab.plot.scatter(x=\"gdp\", y='phones', figsize=(14,6))\n",
    "plt.xlabel(\"GDP ($ per capita)\")\n",
    "plt.ylabel(\"Phones (per 1000)\")\n",
    "plt.title('Relação entre telefones celular e PIB per capita', fontsize=16)"
   ]
  },
  {
   "cell_type": "markdown",
   "metadata": {},
   "source": [
    "No gráfico, um dos valores destaca aos olhos, com um valor de '$ per capita' maior do que 50000. Por curiosidade, procurei o país abaixo."
   ]
  },
  {
   "cell_type": "code",
   "execution_count": 17,
   "metadata": {},
   "outputs": [
    {
     "data": {
      "text/html": [
       "<div>\n",
       "<style scoped>\n",
       "    .dataframe tbody tr th:only-of-type {\n",
       "        vertical-align: middle;\n",
       "    }\n",
       "\n",
       "    .dataframe tbody tr th {\n",
       "        vertical-align: top;\n",
       "    }\n",
       "\n",
       "    .dataframe thead th {\n",
       "        text-align: right;\n",
       "    }\n",
       "</style>\n",
       "<table border=\"1\" class=\"dataframe\">\n",
       "  <thead>\n",
       "    <tr style=\"text-align: right;\">\n",
       "      <th></th>\n",
       "      <th>country</th>\n",
       "      <th>region</th>\n",
       "      <th>population</th>\n",
       "      <th>area</th>\n",
       "      <th>density</th>\n",
       "      <th>coastline</th>\n",
       "      <th>migration</th>\n",
       "      <th>infant_mortality</th>\n",
       "      <th>gdp</th>\n",
       "      <th>literacy</th>\n",
       "      <th>phones</th>\n",
       "      <th>arable</th>\n",
       "      <th>crops</th>\n",
       "      <th>other</th>\n",
       "      <th>climate</th>\n",
       "      <th>birthrate</th>\n",
       "      <th>deathrate</th>\n",
       "      <th>agriculture</th>\n",
       "      <th>industry</th>\n",
       "      <th>service</th>\n",
       "    </tr>\n",
       "  </thead>\n",
       "  <tbody>\n",
       "    <tr>\n",
       "      <th>121</th>\n",
       "      <td>Luxembourg</td>\n",
       "      <td>WESTERN EUROPE</td>\n",
       "      <td>474413</td>\n",
       "      <td>2586</td>\n",
       "      <td>183.5</td>\n",
       "      <td>0.0</td>\n",
       "      <td>8.97</td>\n",
       "      <td>4.81</td>\n",
       "      <td>55100.0</td>\n",
       "      <td>100.0</td>\n",
       "      <td>515.4</td>\n",
       "      <td>23.28</td>\n",
       "      <td>0.4</td>\n",
       "      <td>76.32</td>\n",
       "      <td>NaN</td>\n",
       "      <td>11.94</td>\n",
       "      <td>8.41</td>\n",
       "      <td>0.01</td>\n",
       "      <td>0.13</td>\n",
       "      <td>0.86</td>\n",
       "    </tr>\n",
       "  </tbody>\n",
       "</table>\n",
       "</div>"
      ],
      "text/plain": [
       "         country                               region  population  area  \\\n",
       "121  Luxembourg   WESTERN EUROPE                           474413  2586   \n",
       "\n",
       "     density  coastline  migration  infant_mortality      gdp  literacy  \\\n",
       "121    183.5        0.0       8.97              4.81  55100.0     100.0   \n",
       "\n",
       "     phones  arable  crops  other  climate  birthrate  deathrate  agriculture  \\\n",
       "121   515.4   23.28    0.4  76.32      NaN      11.94       8.41         0.01   \n",
       "\n",
       "     industry  service  \n",
       "121      0.13     0.86  "
      ]
     },
     "execution_count": 17,
     "metadata": {},
     "output_type": "execute_result"
    }
   ],
   "source": [
    "tab.sort_values('gdp', ascending=False).head(1)"
   ]
  },
  {
   "cell_type": "markdown",
   "metadata": {},
   "source": [
    "Analisando agora os índices de mortalidade infantil. No gráfico é possível observar que de maneira geral, quanto menor o '$ per capita', maior a mortalidade infantil. E também que após aproximadamente o valor 'x = 10000', a mortalidade infantil é quase constante."
   ]
  },
  {
   "cell_type": "code",
   "execution_count": 18,
   "metadata": {
    "scrolled": false
   },
   "outputs": [
    {
     "data": {
      "text/plain": [
       "Text(0.5, 1.0, 'Relação entre mortalidade infantil e PIB per capita')"
      ]
     },
     "execution_count": 18,
     "metadata": {},
     "output_type": "execute_result"
    },
    {
     "data": {
      "image/png": "[encoded data removed]",
      "text/plain": [
       "<Figure size 1008x432 with 1 Axes>"
      ]
     },
     "metadata": {
      "needs_background": "light"
     },
     "output_type": "display_data"
    }
   ],
   "source": [
    "tab.plot.scatter(x=\"gdp\", y='infant_mortality', figsize=(14,6), color='red')\n",
    "plt.xlabel(\"GDP ($ per capita)\")\n",
    "plt.ylabel(\"Mortalidade infantil\")\n",
    "plt.title('Relação entre mortalidade infantil e PIB per capita', fontsize=16)"
   ]
  },
  {
   "cell_type": "markdown",
   "metadata": {},
   "source": [
    "Outro valor interessante de se analisar é o percentual de alfabetização em relação ao PIB per capita. Ao contrário da mortalidade infantil, a alfabetização é maior quanto maior é o PIB per capita. "
   ]
  },
  {
   "cell_type": "code",
   "execution_count": 19,
   "metadata": {},
   "outputs": [
    {
     "data": {
      "text/plain": [
       "Text(0.5, 1.0, 'Relação entre alfabetização e PIB per capita')"
      ]
     },
     "execution_count": 19,
     "metadata": {},
     "output_type": "execute_result"
    },
    {
     "data": {
      "image/png": "[encoded data removed]",
      "text/plain": [
       "<Figure size 1008x432 with 1 Axes>"
      ]
     },
     "metadata": {
      "needs_background": "light"
     },
     "output_type": "display_data"
    }
   ],
   "source": [
    "tab.plot.scatter(x=\"gdp\", y='literacy', figsize=(14,6), color='green')\n",
    "plt.xlabel(\"GDP ($ per capita)\")\n",
    "plt.ylabel(\"Alfabetização [%]\")\n",
    "plt.title('Relação entre alfabetização e PIB per capita', fontsize=16)"
   ]
  }
 ],
 "metadata": {
  "kernelspec": {
   "display_name": "Python 3",
   "language": "python",
   "name": "python3"
  },
  "language_info": {
   "codemirror_mode": {
    "name": "ipython",
    "version": 3
   },
   "file_extension": ".py",
   "mimetype": "text/x-python",
   "name": "python",
   "nbconvert_exporter": "python",
   "pygments_lexer": "ipython3",
   "version": "3.7.0"
  }
 },
 "nbformat": 4,
 "nbformat_minor": 2
}
